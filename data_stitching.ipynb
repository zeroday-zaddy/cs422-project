{
 "cells": [
  {
   "cell_type": "code",
   "execution_count": 12,
   "metadata": {},
   "outputs": [
    {
     "name": "stdout",
     "output_type": "stream",
     "text": [
      "leafly a (2351, 6)\n",
      "leafly b (4762, 64)\n",
      "psilabs (3339, 46)\n",
      "sclabs (5565, 46)\n",
      "analytical360 (34112, 47)\n"
     ]
    }
   ],
   "source": [
    "import pandas as pd\n",
    "\n",
    "\n",
    "leafly_a = pd.read_csv('data/leafly_effects_a.csv')\n",
    "leafly_b = pd.read_csv('data/leafly_effects_b.csv')\n",
    "print(f'leafly a {leafly_a.shape}')\n",
    "print(f'leafly b {leafly_b.shape}')\n",
    "\n",
    "psilabs = pd.read_csv('data/psilabs.csv')\n",
    "sclabs = pd.read_csv('data/sclabs.csv')\n",
    "analytical360 = pd.read_csv('data/analytical360.csv')\n",
    "print(f'psilabs {psilabs.shape}')\n",
    "print(f'sclabs {sclabs.shape}')\n",
    "print(f'analytical360 {analytical360.shape}')\n"
   ]
  },
  {
   "cell_type": "code",
   "execution_count": null,
   "metadata": {},
   "outputs": [],
   "source": []
  }
 ],
 "metadata": {
  "kernelspec": {
   "display_name": "base",
   "language": "python",
   "name": "python3"
  },
  "language_info": {
   "codemirror_mode": {
    "name": "ipython",
    "version": 3
   },
   "file_extension": ".py",
   "mimetype": "text/x-python",
   "name": "python",
   "nbconvert_exporter": "python",
   "pygments_lexer": "ipython3",
   "version": "3.11.5"
  }
 },
 "nbformat": 4,
 "nbformat_minor": 2
}
